{
 "cells": [
  {
   "cell_type": "code",
   "execution_count": 4,
   "metadata": {},
   "outputs": [
    {
     "name": "stdout",
     "output_type": "stream",
     "text": [
      "[42, 82, 70, 6, 40, 27, 43, 93, 90, 5]\n",
      "[5, 93, 27, 6, 82]\n",
      "498\n"
     ]
    }
   ],
   "source": [
    "# Create a random array of 10 numbers and print subarray\n",
    "import random as rd\n",
    "numbers = rd.sample(range(1, 100), 10)\n",
    "print(numbers)\n",
    "print(numbers[::-2])\n",
    "print(sum(numbers))"
   ]
  },
  {
   "cell_type": "code",
   "execution_count": 4,
   "metadata": {},
   "outputs": [
    {
     "name": "stdout",
     "output_type": "stream",
     "text": [
      "('John', 'Paul', 'George', 'Ringo')\n",
      "('Paul', 'George')\n",
      "('John', 'Paul', 'George', 'Ringo', 'Bob')\n"
     ]
    }
   ],
   "source": [
    "# Create tuple\n",
    "names = ('John', 'Paul', 'George', 'Ringo')\n",
    "print(names)\n",
    "print(names[1:3])\n",
    "names += ('Bob',)\n",
    "print(names)"
   ]
  },
  {
   "cell_type": "code",
   "execution_count": 18,
   "metadata": {},
   "outputs": [
    {
     "name": "stdout",
     "output_type": "stream",
     "text": [
      "[19, 85, 36, 93, 53, 5, 99, 65, 90, 64, 80, 97, 79, 60, 11, 8, 94, 49, 27, 4]\n",
      "[19, 85, 36, 93, 53, 5, 99, 65, 90, 64]\n",
      "[80, 97, 79, 60, 11, 8, 94, 49, 27, 4]\n",
      "[5, 99, 65, 90, 64, 80, 97, 79, 60, 11, 8, 94, 49, 27, 4]\n",
      "[19, 85, 36, 93, 53, 5, 99, 65, 90, 64, 80, 97, 79, 60, 11]\n",
      "[19, 85, 36, 93, 53, 8, 94, 49, 27, 4]\n",
      "5\n",
      "99\n",
      "6\n"
     ]
    }
   ],
   "source": [
    "# create an array of 20 random integers\n",
    "import random as rd\n",
    "numbers = rd.sample(range(1, 100), 20)\n",
    "print(numbers)\n",
    "a = numbers[:len(numbers)//2]\n",
    "b = numbers[len(numbers)//2:]\n",
    "print(a)\n",
    "print(b)\n",
    "# read an intger from keyboard\n",
    "loop = True\n",
    "while loop:\n",
    "    try:\n",
    "        n = int(input('Enter an integer: '))\n",
    "        if n >= 0 and n <= len(numbers):\n",
    "            loop = False\n",
    "        else:\n",
    "            print('Please enter an integer between 0 and', len(numbers))\n",
    "    except ValueError:\n",
    "        print('Please enter an integer')\n",
    "# n = int(input('Enter an integer: '))\n",
    "c = numbers[n:]\n",
    "d = numbers[:-n]\n",
    "print(c)\n",
    "print(d)\n",
    "e = numbers[:n] + numbers[len(numbers)-n:]\n",
    "print(e)\n",
    "print(numbers[n])\n",
    "print(max(numbers))\n",
    "print(numbers.index(max(numbers)))"
   ]
  }
 ],
 "metadata": {
  "kernelspec": {
   "display_name": "Python 3",
   "language": "python",
   "name": "python3"
  },
  "language_info": {
   "codemirror_mode": {
    "name": "ipython",
    "version": 3
   },
   "file_extension": ".py",
   "mimetype": "text/x-python",
   "name": "python",
   "nbconvert_exporter": "python",
   "pygments_lexer": "ipython3",
   "version": "3.10.10"
  },
  "orig_nbformat": 4
 },
 "nbformat": 4,
 "nbformat_minor": 2
}
