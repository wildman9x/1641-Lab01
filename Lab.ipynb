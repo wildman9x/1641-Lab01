{
 "cells": [
  {
   "cell_type": "code",
   "execution_count": 4,
   "metadata": {},
   "outputs": [
    {
     "name": "stdout",
     "output_type": "stream",
     "text": [
      "[42, 82, 70, 6, 40, 27, 43, 93, 90, 5]\n",
      "[5, 93, 27, 6, 82]\n",
      "498\n"
     ]
    }
   ],
   "source": [
    "# Create a random array of 10 numbers and print subarray\n",
    "import random as rd\n",
    "numbers = rd.sample(range(1, 100), 10)\n",
    "print(numbers)\n",
    "print(numbers[::-2])\n",
    "print(sum(numbers))"
   ]
  },
  {
   "cell_type": "code",
   "execution_count": 4,
   "metadata": {},
   "outputs": [
    {
     "name": "stdout",
     "output_type": "stream",
     "text": [
      "('John', 'Paul', 'George', 'Ringo')\n",
      "('Paul', 'George')\n",
      "('John', 'Paul', 'George', 'Ringo', 'Bob')\n"
     ]
    }
   ],
   "source": [
    "# Create tuple\n",
    "names = ('John', 'Paul', 'George', 'Ringo')\n",
    "print(names)\n",
    "print(names[1:3])\n",
    "names += ('Bob',)\n",
    "print(names)"
   ]
  },
  {
   "cell_type": "code",
   "execution_count": 18,
   "metadata": {},
   "outputs": [
    {
     "name": "stdout",
     "output_type": "stream",
     "text": [
      "[19, 85, 36, 93, 53, 5, 99, 65, 90, 64, 80, 97, 79, 60, 11, 8, 94, 49, 27, 4]\n",
      "[19, 85, 36, 93, 53, 5, 99, 65, 90, 64]\n",
      "[80, 97, 79, 60, 11, 8, 94, 49, 27, 4]\n",
      "[5, 99, 65, 90, 64, 80, 97, 79, 60, 11, 8, 94, 49, 27, 4]\n",
      "[19, 85, 36, 93, 53, 5, 99, 65, 90, 64, 80, 97, 79, 60, 11]\n",
      "[19, 85, 36, 93, 53, 8, 94, 49, 27, 4]\n",
      "5\n",
      "99\n",
      "6\n"
     ]
    }
   ],
   "source": [
    "# create an array of 20 random integers\n",
    "import random as rd\n",
    "numbers = rd.sample(range(1, 100), 20)\n",
    "print(numbers)\n",
    "a = numbers[:len(numbers)//2]\n",
    "b = numbers[len(numbers)//2:]\n",
    "print(a)\n",
    "print(b)\n",
    "# read an intger from keyboard\n",
    "loop = True\n",
    "while loop:\n",
    "    try:\n",
    "        n = int(input('Enter an integer: '))\n",
    "        if n >= 0 and n <= len(numbers):\n",
    "            loop = False\n",
    "        else:\n",
    "            print('Please enter an integer between 0 and', len(numbers))\n",
    "    except ValueError:\n",
    "        print('Please enter an integer')\n",
    "# n = int(input('Enter an integer: '))\n",
    "c = numbers[n:]\n",
    "d = numbers[:-n]\n",
    "print(c)\n",
    "print(d)\n",
    "e = numbers[:n] + numbers[len(numbers)-n:]\n",
    "print(e)\n",
    "print(numbers[n])\n",
    "print(max(numbers))\n",
    "print(numbers.index(max(numbers)))"
   ]
  },
  {
   "cell_type": "code",
   "execution_count": 1,
   "metadata": {},
   "outputs": [
    {
     "ename": "ModuleNotFoundError",
     "evalue": "No module named '_curses'",
     "output_type": "error",
     "traceback": [
      "\u001b[1;31m---------------------------------------------------------------------------\u001b[0m",
      "\u001b[1;31mModuleNotFoundError\u001b[0m                       Traceback (most recent call last)",
      "Cell \u001b[1;32mIn[1], line 4\u001b[0m\n\u001b[0;32m      2\u001b[0m \u001b[39mimport\u001b[39;00m \u001b[39mmath\u001b[39;00m\n\u001b[0;32m      3\u001b[0m \u001b[39mimport\u001b[39;00m \u001b[39mtime\u001b[39;00m\n\u001b[1;32m----> 4\u001b[0m \u001b[39mimport\u001b[39;00m \u001b[39mcurses\u001b[39;00m\n\u001b[0;32m      6\u001b[0m \u001b[39mdef\u001b[39;00m \u001b[39mmain\u001b[39m(stdscr):\n\u001b[0;32m      7\u001b[0m     A, B \u001b[39m=\u001b[39m \u001b[39m0\u001b[39m, \u001b[39m0\u001b[39m\n",
      "File \u001b[1;32mC:\\Program Files\\WindowsApps\\PythonSoftwareFoundation.Python.3.10_3.10.2800.0_x64__qbz5n2kfra8p0\\lib\\curses\\__init__.py:13\u001b[0m\n\u001b[0;32m      1\u001b[0m \u001b[39m\"\"\"curses\u001b[39;00m\n\u001b[0;32m      2\u001b[0m \n\u001b[0;32m      3\u001b[0m \u001b[39mThe main package for curses support for Python.  Normally used by importing\u001b[39;00m\n\u001b[1;32m   (...)\u001b[0m\n\u001b[0;32m     10\u001b[0m \n\u001b[0;32m     11\u001b[0m \u001b[39m\"\"\"\u001b[39;00m\n\u001b[1;32m---> 13\u001b[0m \u001b[39mfrom\u001b[39;00m \u001b[39m_curses\u001b[39;00m \u001b[39mimport\u001b[39;00m \u001b[39m*\u001b[39m\n\u001b[0;32m     14\u001b[0m \u001b[39mimport\u001b[39;00m \u001b[39mos\u001b[39;00m \u001b[39mas\u001b[39;00m \u001b[39m_os\u001b[39;00m\n\u001b[0;32m     15\u001b[0m \u001b[39mimport\u001b[39;00m \u001b[39msys\u001b[39;00m \u001b[39mas\u001b[39;00m \u001b[39m_sys\u001b[39;00m\n",
      "\u001b[1;31mModuleNotFoundError\u001b[0m: No module named '_curses'"
     ]
    }
   ],
   "source": [
    "import os\n",
    "import math\n",
    "import time\n",
    "import curses\n",
    "\n",
    "def main(stdscr):\n",
    "    A, B = 0, 0\n",
    "    K1, K2 = 20, 30\n",
    "    A_delta, B_delta = 0.04, 0.08\n",
    "\n",
    "    while True:\n",
    "        stdscr.clear()\n",
    "        zbuffer = [0] * (80 * 22)\n",
    "\n",
    "        for j in range(0, 628, 31):\n",
    "            cj, sj = math.cos(j / 100), math.sin(j / 100)\n",
    "            for i in range(0, 628, 31):\n",
    "                ci, si = math.cos(i / 100), math.sin(i / 100)\n",
    "\n",
    "                x = 1 + ci * (1 + cj)\n",
    "                y = 1 + si * (1 + cj)\n",
    "                z = K2 + K1 * cj\n",
    "                ooz = 1 / z\n",
    "\n",
    "                xp, yp = int(40 + 30 * ooz * x), int(11 + 15 * ooz * y)\n",
    "                L = cj * si * 0.5 + 0.5\n",
    "                if L > zbuffer[xp + 80 * yp]:\n",
    "                    zbuffer[xp + 80 * yp] = L\n",
    "                    stdscr.addch(yp, xp, \".,-~:;=!*#$@\"[int(L * 11)])\n",
    "\n",
    "        stdscr.refresh()\n",
    "        A += A_delta\n",
    "        B += B_delta\n",
    "        time.sleep(0.03)\n",
    "\n",
    "if __name__ == \"__main__\":\n",
    "    os.system(\"resize -s 22 80\")\n",
    "    curses.wrapper(main)"
   ]
  }
 ],
 "metadata": {
  "kernelspec": {
   "display_name": "Python 3",
   "language": "python",
   "name": "python3"
  },
  "language_info": {
   "codemirror_mode": {
    "name": "ipython",
    "version": 3
   },
   "file_extension": ".py",
   "mimetype": "text/x-python",
   "name": "python",
   "nbconvert_exporter": "python",
   "pygments_lexer": "ipython3",
   "version": "3.10.10"
  },
  "orig_nbformat": 4
 },
 "nbformat": 4,
 "nbformat_minor": 2
}
