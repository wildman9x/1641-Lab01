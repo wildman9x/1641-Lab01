{
 "cells": [
  {
   "cell_type": "code",
   "execution_count": 1,
   "metadata": {},
   "outputs": [
    {
     "name": "stdout",
     "output_type": "stream",
     "text": [
      "Numbers:  [78  2 69 20 78 49  1 65 97 99]\n",
      "Evens:  [78  2 20 78]\n",
      "Odds:  [69 49  1 65 97 99]\n"
     ]
    }
   ],
   "source": [
    "import numpy as np\n",
    "numbers = np.random.randint(1, 100, 10)\n",
    "evens = numbers[numbers % 2 == 0]\n",
    "odds = numbers[numbers % 2 == 1]\n",
    "print(\"Numbers: \", numbers)\n",
    "print(\"Evens: \", evens)\n",
    "print(\"Odds: \", odds)\n",
    "\n"
   ]
  },
  {
   "cell_type": "code",
   "execution_count": 3,
   "metadata": {},
   "outputs": [
    {
     "name": "stdout",
     "output_type": "stream",
     "text": [
      "Names:  ['Alice' 'Bob' 'John ' 'Dan' 'John ' 'Frank' 'Gary' 'Helen' 'Irene' 'Jack']\n",
      "Ages:  [  0 150   0 139 150   0  18   0   0 150]\n"
     ]
    }
   ],
   "source": [
    "# generate array of 10 names\n",
    "names = np.array(['Alice', 'Bob', '', 'Dan', '', 'Frank', 'Gary', 'Helen', 'Irene', 'Jack'])\n",
    "ages = np.random.randint(-200, 200, 10)\n",
    "\n",
    "#change empty names to 'John Doe'\n",
    "names[names == ''] = 'John Doe'\n",
    "\n",
    "#change negative ages to 0 and ages over 150 to 150\n",
    "ages[ages < 0] = 0\n",
    "ages[ages > 150] = 150\n",
    "print(\"Names: \", names)\n",
    "print(\"Ages: \", ages)\n"
   ]
  },
  {
   "cell_type": "code",
   "execution_count": 8,
   "metadata": {},
   "outputs": [
    {
     "name": "stdout",
     "output_type": "stream",
     "text": [
      "Velocity:  [ 0.          2.65306122  7.25490196 11.8        13.79310345 20.85106383\n",
      " 17.38461538]\n"
     ]
    }
   ],
   "source": [
    "y = np.array([0.,1.3,5.,10.9,18.9,28.7,40.])\n",
    "t = np.array([0.,0.49,1.,1.5,2.08,2.55,3.2])\n",
    "v = np.zeros(len(y))\n",
    "v[1:] = (y[1:] - y[:-1])/(t[1:] - t[:-1])\n",
    "print(\"Velocity: \", v)"
   ]
  },
  {
   "cell_type": "code",
   "execution_count": 16,
   "metadata": {},
   "outputs": [
    {
     "name": "stdout",
     "output_type": "stream",
     "text": [
      "2d list:  [[1, 2, 3], [4, 5, 6], [7, 8, 9]]\n",
      "2d array:  [[1 2 3]\n",
      " [4 5 6]\n",
      " [7 8 9]]\n",
      "(3, 3)\n",
      "1d list:  [1, 2, 3, 4, 5, 6, 7, 8, 9]\n",
      "1d array:  [1 2 3 4 5 6 7 8 9]\n",
      "1d list:  [1, 2, 3, 4, 5, 6, 7, 8, 9]\n",
      "2d array:  [[1 2 3]\n",
      " [4 5 6]\n",
      " [7 8 9]]\n"
     ]
    }
   ],
   "source": [
    "# 2d list\n",
    "a = [[1,2,3],[4,5,6],[7,8,9]]\n",
    "b = np.array(a)\n",
    "print(\"2d list: \", a)\n",
    "print(\"2d array: \", b)\n",
    "print(np.shape(b))\n",
    "# 1d list\n",
    "c = [1,2,3,4,5,6,7,8,9]\n",
    "d = np.array(c)\n",
    "print(\"1d list: \", c)\n",
    "print(\"1d array: \", d)\n",
    "d = d.reshape(3,3)\n",
    "print(\"1d list: \", c)\n",
    "print(\"2d array: \", d)"
   ]
  },
  {
   "cell_type": "code",
   "execution_count": 27,
   "metadata": {},
   "outputs": [
    {
     "name": "stdout",
     "output_type": "stream",
     "text": [
      "[[0. 0. 0.]\n",
      " [0. 0. 0.]\n",
      " [0. 0. 0.]]\n",
      "[[76 96 38]\n",
      " [63 10 26]\n",
      " [98 61 33]\n",
      " [42 88 19]]\n",
      "[[76]\n",
      " [63]\n",
      " [98]\n",
      " [42]]\n",
      "[[10 26]\n",
      " [61 33]]\n"
     ]
    }
   ],
   "source": [
    "print(np.zeros((3,3)))\n",
    "matrix = np.random.randint(1, 100, (4,3))\n",
    "print(matrix)\n",
    "print(matrix[:,:1])\n",
    "print(matrix[1:-1,1:])\n"
   ]
  },
  {
   "cell_type": "code",
   "execution_count": 2,
   "metadata": {},
   "outputs": [
    {
     "name": "stdout",
     "output_type": "stream",
     "text": [
      "[[1 1 1 1 1 1 1 1]\n",
      " [1 0 0 0 0 0 0 1]\n",
      " [1 0 0 0 0 0 0 1]\n",
      " [1 0 0 0 0 0 0 1]\n",
      " [1 0 0 0 0 0 0 1]\n",
      " [1 0 0 0 0 0 0 1]\n",
      " [1 0 0 0 0 0 0 1]\n",
      " [1 1 1 1 1 1 1 1]]\n",
      "[[1 0 1 0 1 0 1 0]\n",
      " [0 1 0 1 0 1 0 1]\n",
      " [1 0 1 0 1 0 1 0]\n",
      " [0 1 0 1 0 1 0 1]\n",
      " [1 0 1 0 1 0 1 0]\n",
      " [0 1 0 1 0 1 0 1]\n",
      " [1 0 1 0 1 0 1 0]\n",
      " [0 1 0 1 0 1 0 1]]\n",
      "[[1 0 1 0 1 0 1 0]\n",
      " [0 1 0 1 0 1 0 1]\n",
      " [1 0 1 0 1 0 1 0]\n",
      " [0 1 0 1 0 1 0 1]\n",
      " [1 0 1 0 1 0 1 0]\n",
      " [0 1 0 1 0 1 0 1]\n",
      " [1 0 1 0 1 0 1 0]\n",
      " [0 1 0 1 0 1 0 1]]\n"
     ]
    },
    {
     "ename": "",
     "evalue": "",
     "output_type": "error",
     "traceback": [
      "\u001b[1;31mThe Kernel crashed while executing code in the the current cell or a previous cell. Please review the code in the cell(s) to identify a possible cause of the failure. Click <a href='https://aka.ms/vscodeJupyterKernelCrash'>here</a> for more info. View Jupyter <a href='command:jupyter.viewOutput'>log</a> for further details."
     ]
    }
   ],
   "source": [
    "import numpy as np\n",
    "matrix1 = np.zeros((8,8), dtype=int)\n",
    "matrix1[0:,0:1] = 1\n",
    "matrix1[:1,0:] = 1\n",
    "matrix1[0:,-1:] = 1\n",
    "matrix1[-1:,0:] = 1\n",
    "print(matrix1)\n",
    "\n",
    "matrix2 = np.zeros((8,8), dtype=int)\n",
    "matrix2[1::2,1::2] = 1\n",
    "matrix2[0::2,0::2] = 1\n",
    "print(matrix2)\n",
    "\n",
    "a = np.array(([1,0] * 4 + [0,1] * 4)*4).reshape(8,8)\n",
    "print(a)\n"
   ]
  }
 ],
 "metadata": {
  "kernelspec": {
   "display_name": "Python 3",
   "language": "python",
   "name": "python3"
  },
  "language_info": {
   "codemirror_mode": {
    "name": "ipython",
    "version": 3
   },
   "file_extension": ".py",
   "mimetype": "text/x-python",
   "name": "python",
   "nbconvert_exporter": "python",
   "pygments_lexer": "ipython3",
   "version": "3.10.10"
  },
  "orig_nbformat": 4
 },
 "nbformat": 4,
 "nbformat_minor": 2
}
