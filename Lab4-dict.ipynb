{
 "cells": [
  {
   "cell_type": "code",
   "execution_count": 2,
   "metadata": {},
   "outputs": [
    {
     "name": "stdout",
     "output_type": "stream",
     "text": [
      "Not found\n"
     ]
    }
   ],
   "source": [
    "# Create dictionary of words\n",
    "words = {}\n",
    "words['a'] = 'alpha'\n",
    "words['o'] = 'omega'\n",
    "words['g'] = 'gamma'\n",
    "words['d'] = 'delta'\n",
    "words['e'] = 'epsilon'\n",
    "words['i'] = 'iota'\n",
    "words['k'] = 'kappa'\n",
    "\n",
    "try:\n",
    "    print(words[input('Enter a letter: ')])\n",
    "except KeyError:\n",
    "    print('Not found')"
   ]
  },
  {
   "cell_type": "code",
   "execution_count": 4,
   "metadata": {},
   "outputs": [],
   "source": [
    "rooms = {'Emma': 307, 'John': 308, 'Peter': 309, 'Mary': 310}"
   ]
  },
  {
   "cell_type": "code",
   "execution_count": 9,
   "metadata": {},
   "outputs": [
    {
     "name": "stdout",
     "output_type": "stream",
     "text": [
      "Emma is in room 102\n",
      "John is in room 308\n",
      "Peter is in room 309\n",
      "Mary is in room 310\n"
     ]
    }
   ],
   "source": [
    "for guest in rooms:\n",
    "    print(guest, 'is in room', rooms[guest])"
   ]
  },
  {
   "cell_type": "code",
   "execution_count": 3,
   "metadata": {},
   "outputs": [
    {
     "name": "stdout",
     "output_type": "stream",
     "text": [
      "Alice is now in room 400\n"
     ]
    }
   ],
   "source": [
    "name = input('Enter a name: ')\n",
    "if name in rooms:\n",
    "    print(name, 'is in room', rooms[name])\n",
    "else:\n",
    "    room = int(input('Enter room number: '))\n",
    "    rooms[name] = room\n",
    "    print(f'{name} is now in room {room}')"
   ]
  },
  {
   "cell_type": "code",
   "execution_count": 7,
   "metadata": {},
   "outputs": [
    {
     "name": "stdout",
     "output_type": "stream",
     "text": [
      "Emma is now in room 102\n"
     ]
    }
   ],
   "source": [
    "# change room for a guest\n",
    "name = input('Enter a name: ')\n",
    "try:\n",
    "    if name in rooms:\n",
    "        room = int(input('Enter room number: '))\n",
    "        if room in rooms.values():\n",
    "            print('Room already occupied')\n",
    "        else:\n",
    "            rooms[name] = room\n",
    "            print(f'{name} is now in room {room}')\n",
    "    else:\n",
    "        print('Guest not found')\n",
    "except ValueError:\n",
    "    print('Invalid name')"
   ]
  },
  {
   "cell_type": "code",
   "execution_count": null,
   "metadata": {},
   "outputs": [],
   "source": [
    "# Checkout\n",
    "name = input('Enter a name: ')\n",
    "if name in rooms:\n",
    "    print(f'{name} checked out of room {rooms[name]}')\n",
    "    del rooms[name]\n",
    "else:\n",
    "    print('Guest not found')"
   ]
  },
  {
   "cell_type": "code",
   "execution_count": 11,
   "metadata": {},
   "outputs": [],
   "source": [
    "# dict with student name as key and gpa of float as value\n",
    "students = {'Emma': 3.5, 'John': 3.2, 'Peter': 3.8, 'Mary': 3.9}\n"
   ]
  },
  {
   "cell_type": "code",
   "execution_count": 22,
   "metadata": {},
   "outputs": [
    {
     "name": "stdout",
     "output_type": "stream",
     "text": [
      "Alice is now in the dictionary with gpa 4.0\n"
     ]
    }
   ],
   "source": [
    "name = input('Enter a name: ').capitalize()\n",
    "if name not in students:\n",
    "    gpa = float(input('Enter gpa: '))\n",
    "    if gpa > 4.0:\n",
    "        gpa = 4.0\n",
    "    elif gpa < 0.0:\n",
    "        gpa = 0.0\n",
    "    students[name] = gpa\n",
    "    print(f'{name} is now in the dictionary with gpa {gpa}')\n",
    "else:\n",
    "    print(f'{name} is already in the dictionary with gpa {students[name]}')"
   ]
  },
  {
   "cell_type": "code",
   "execution_count": 21,
   "metadata": {},
   "outputs": [
    {
     "name": "stdout",
     "output_type": "stream",
     "text": [
      "Emma has a gpa of 3.5\n",
      "John has a gpa of 3.2\n",
      "Peter has a gpa of 3.8\n",
      "Mary has a gpa of 3.9\n",
      "<built-in method capitalize of str object at 0x0000018105AD95B0> has a gpa of 4.0\n"
     ]
    }
   ],
   "source": [
    "for student in students:\n",
    "    print(f'{student} has a gpa of {students[student]}')"
   ]
  },
  {
   "cell_type": "code",
   "execution_count": 14,
   "metadata": {},
   "outputs": [
    {
     "name": "stdout",
     "output_type": "stream",
     "text": [
      "The student with the highest gpa is Mary with a gpa of 3.9\n"
     ]
    }
   ],
   "source": [
    "print(f'The student with the highest gpa is {max(students, key=students.get)} with a gpa of {max(students.values())}')"
   ]
  },
  {
   "cell_type": "code",
   "execution_count": 15,
   "metadata": {},
   "outputs": [
    {
     "name": "stdout",
     "output_type": "stream",
     "text": [
      "The student with the lowest gpa is John with a gpa of 3.2\n"
     ]
    }
   ],
   "source": [
    "print(f'The student with the lowest gpa is {min(students, key=students.get)} with a gpa of {min(students.values())}')"
   ]
  },
  {
   "cell_type": "code",
   "execution_count": 16,
   "metadata": {},
   "outputs": [
    {
     "name": "stdout",
     "output_type": "stream",
     "text": [
      "The average gpa is 3.6\n"
     ]
    }
   ],
   "source": [
    "print(f'The average gpa is {sum(students.values())/len(students)}')"
   ]
  },
  {
   "cell_type": "code",
   "execution_count": 19,
   "metadata": {},
   "outputs": [
    {
     "name": "stdout",
     "output_type": "stream",
     "text": [
      "Mary has a gpa of 3.9\n"
     ]
    }
   ],
   "source": [
    "name = input('Enter a name: ').capitalize()\n",
    "if name in students:\n",
    "    print(f'{name} has a gpa of {students[name]}')\n",
    "else:\n",
    "    print('Student not found')"
   ]
  },
  {
   "cell_type": "code",
   "execution_count": null,
   "metadata": {},
   "outputs": [],
   "source": [
    "name = input('Enter a name: ').capitalize()\n",
    "if name in students:\n",
    "    gpa = float(input('Enter gpa: '))\n",
    "    if gpa > 4.0:\n",
    "        gpa = 4.0\n",
    "    elif gpa < 0.0:\n",
    "        gpa = 0.0\n",
    "    students[name] = gpa\n",
    "    print(f'{name} has a gpa of {gpa}')\n",
    "else:\n",
    "    print('Student not found')"
   ]
  },
  {
   "cell_type": "code",
   "execution_count": null,
   "metadata": {},
   "outputs": [],
   "source": [
    "name = input('Enter a name: ').capitalize()\n",
    "if name in students:\n",
    "    del students[name]\n",
    "    print(f'{name} deleted')\n",
    "else:\n",
    "    print('Student not found')"
   ]
  }
 ],
 "metadata": {
  "kernelspec": {
   "display_name": "Python 3",
   "language": "python",
   "name": "python3"
  },
  "language_info": {
   "codemirror_mode": {
    "name": "ipython",
    "version": 3
   },
   "file_extension": ".py",
   "mimetype": "text/x-python",
   "name": "python",
   "nbconvert_exporter": "python",
   "pygments_lexer": "ipython3",
   "version": "3.10.10"
  },
  "orig_nbformat": 4
 },
 "nbformat": 4,
 "nbformat_minor": 2
}
