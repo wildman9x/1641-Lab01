{
 "cells": [
  {
   "cell_type": "code",
   "execution_count": 4,
   "metadata": {},
   "outputs": [
    {
     "name": "stdout",
     "output_type": "stream",
     "text": [
      "[52, 43, 16, 59, 78, 70, 87, 91, 9, 27]\n"
     ]
    }
   ],
   "source": [
    "import random as rd\n",
    "numbers = [rd.randint(1, 100) for i in range(10)]\n",
    "print(numbers)"
   ]
  },
  {
   "cell_type": "code",
   "execution_count": 5,
   "metadata": {},
   "outputs": [
    {
     "name": "stdout",
     "output_type": "stream",
     "text": [
      "Even numbers: [52, 16, 78, 70]\n",
      "Odd numbers: [43, 59, 87, 91, 9, 27]\n"
     ]
    }
   ],
   "source": [
    "print(f'Even numbers: {[i for i in numbers if i % 2 == 0]}')\n",
    "print(f'Odd numbers: {[i for i in numbers if i % 2 != 0]}')"
   ]
  },
  {
   "cell_type": "code",
   "execution_count": 7,
   "metadata": {},
   "outputs": [
    {
     "name": "stdout",
     "output_type": "stream",
     "text": [
      "[0.21305580074280006, 0.40067762825098874, 0.6299438394087651, -0.6113936489466889, -0.10160684472175507, 0.5167107545411633, -0.6940415969586315, 0.26005730763729584, 0.3123496867833331, -0.37990474669689167]\n"
     ]
    }
   ],
   "source": [
    "numbers2 = [rd.uniform(-1, 1) for i in range(10)]\n",
    "print(numbers2)"
   ]
  },
  {
   "cell_type": "code",
   "execution_count": 26,
   "metadata": {},
   "outputs": [
    {
     "name": "stdout",
     "output_type": "stream",
     "text": [
      "Change negative numbers to positive: [0.21305580074280006, 0.40067762825098874, 0.6299438394087651, 0.6113936489466889, 0.10160684472175507, 0.5167107545411633, 0.6940415969586315, 0.26005730763729584, 0.3123496867833331, 0.37990474669689167]\n"
     ]
    }
   ],
   "source": [
    "print(f'Change negative numbers to positive: {[n if n > 0 else -n for n in numbers2]}')"
   ]
  },
  {
   "cell_type": "code",
   "execution_count": 10,
   "metadata": {},
   "outputs": [
    {
     "name": "stdout",
     "output_type": "stream",
     "text": [
      "Positive numbers: [0.21305580074280006, 0.40067762825098874, 0.6299438394087651, 0.5167107545411633, 0.26005730763729584, 0.3123496867833331]\n",
      "Negative numbers: [-0.6113936489466889, -0.10160684472175507, -0.6940415969586315, -0.37990474669689167]\n"
     ]
    }
   ],
   "source": [
    "print(f'Positive numbers: {[i for i in numbers2 if i > 0]}', \n",
    "      f'Negative numbers: {[i for i in numbers2 if i < 0]}', \n",
    "      sep = '\\n')\n"
   ]
  },
  {
   "cell_type": "code",
   "execution_count": 25,
   "metadata": {},
   "outputs": [
    {
     "name": "stdout",
     "output_type": "stream",
     "text": [
      "Products whose price are >= 30: ['Notebook', 'Ipad']\n"
     ]
    }
   ],
   "source": [
    "product_sold = [['Pen', 10.0, 50],\n",
    "                ['Pencil', 5.0, 100],\n",
    "                ['Eraser', 2.0, 200],\n",
    "                ['Sharpener', 3.0, 150],\n",
    "                ['Notebook', 40.0, 100],\n",
    "                ['ipad', 500., 300]]\n",
    "for product in product_sold:\n",
    "    product[0] = product[0].capitalize()\n",
    "\n",
    "print(f'Products whose price are >= 30: {[i[0] for i in product_sold if i[1] >= 30]}')"
   ]
  },
  {
   "cell_type": "code",
   "execution_count": 18,
   "metadata": {},
   "outputs": [
    {
     "name": "stdout",
     "output_type": "stream",
     "text": [
      "Products whose income is >= 600: ['Notebook', 'Ipad']\n"
     ]
    }
   ],
   "source": [
    "print(f'Products whose income is >= 600: {[i[0] for i in product_sold if i[1] * i[2] >= 600.]}')"
   ]
  },
  {
   "cell_type": "code",
   "execution_count": 30,
   "metadata": {},
   "outputs": [
    {
     "name": "stdout",
     "output_type": "stream",
     "text": [
      "['Alice', 'Bob', '', 'Dan', '', 'Frank', 'Gary', 'Helen', 'Irene', 'Jack']\n"
     ]
    }
   ],
   "source": [
    "import numpy as np\n",
    "names3 = ['Alice', 'Bob', '', 'Dan', '', 'Frank', 'Gary', 'Helen', 'Irene', 'Jack']\n",
    "print(names3)"
   ]
  },
  {
   "cell_type": "code",
   "execution_count": 38,
   "metadata": {},
   "outputs": [
    {
     "name": "stdout",
     "output_type": "stream",
     "text": [
      "['Alice', 'Bob', '', 'Dan', '', 'Frank', 'Gary', 'Helen', 'Irene', 'Jack']\n",
      "['Alice', 'Bob', 'John Doe', 'Dan', 'John Doe', 'Frank', 'Gary', 'Helen', 'Irene', 'Jack']\n"
     ]
    }
   ],
   "source": [
    "for i in names3:\n",
    "    if i == '':\n",
    "        i = 'John Doe'\n",
    "print(names3)\n",
    "print([n if n != '' else 'John Doe' for n in names3])"
   ]
  }
 ],
 "metadata": {
  "kernelspec": {
   "display_name": "Python 3",
   "language": "python",
   "name": "python3"
  },
  "language_info": {
   "codemirror_mode": {
    "name": "ipython",
    "version": 3
   },
   "file_extension": ".py",
   "mimetype": "text/x-python",
   "name": "python",
   "nbconvert_exporter": "python",
   "pygments_lexer": "ipython3",
   "version": "3.10.10"
  },
  "orig_nbformat": 4
 },
 "nbformat": 4,
 "nbformat_minor": 2
}
