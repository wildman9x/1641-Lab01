{
 "cells": [
  {
   "cell_type": "code",
   "execution_count": 12,
   "metadata": {},
   "outputs": [],
   "source": [
    "def my_print(msg):\n",
    "    print(msg)\n",
    "\n",
    "def my_sort(lst):\n",
    "    lst.sort()\n",
    "    return lst\n",
    "\n",
    "def doubleList(lst):\n",
    "    for i in range(len(lst)):\n",
    "        lst[i] = lst[i] * 2\n",
    "    print(lst)\n",
    "\n",
    "def my_max(lst):\n",
    "    return max(lst)\n",
    "\n",
    "def operator(a, b, op = '+'):\n",
    "    return a + b if op == '+' else a - b if op == '-' else a * b if op == '*' else a / b if op == '/' else None\n"
   ]
  },
  {
   "cell_type": "code",
   "execution_count": 17,
   "metadata": {},
   "outputs": [
    {
     "name": "stdout",
     "output_type": "stream",
     "text": [
      "5\n",
      "[1, 2, 3, 4, 5]\n",
      "[2, 4, 6, 8, 10]\n",
      "[2, 4, 6, 8, 10]\n",
      "-2\n"
     ]
    }
   ],
   "source": [
    "lst = [1, 2, 3, 4, 5]\n",
    "print(my_max(lst))\n",
    "\n",
    "scrambledList = [3, 4, 1, 2, 5]\n",
    "print(my_sort(scrambledList))\n",
    "\n",
    "doubleList(lst)\n",
    "print(lst)\n",
    "\n",
    "print(operator(2,4,'-'))"
   ]
  },
  {
   "cell_type": "code",
   "execution_count": 3,
   "metadata": {},
   "outputs": [],
   "source": [
    "import uuid\n",
    "\n",
    "def print_menu():\n",
    "    for item in funcs:\n",
    "        print(f'{item}. {funcs[item][1]}')\n",
    "\n",
    "def menu_chosen(choice):\n",
    "    if choice not in funcs:\n",
    "        print(\"Invalid choice\")\n",
    "        return False\n",
    "    funcs[choice][0]()\n",
    "\n",
    "def AddProduct():\n",
    "    name = input(\"Enter product name: \")\n",
    "    price = input(\"Enter product price: \")\n",
    "    productId = uuid.uuid4()\n",
    "    productList.append([productId, name, price])\n",
    "    print(\"Product added successfully\")\n",
    "\n",
    "def ProductList():\n",
    "    for product in productList:\n",
    "        print(f'Name: {product[1]} \\n Price: {product[2]} \\n ID: {product[0]}')\n",
    "        \n",
    "def FindProductByName():\n",
    "    name = input(\"Enter product name: \")\n",
    "    for product in productList:\n",
    "        if product[1] == name:\n",
    "            print(f'Name: {product[1]} \\n Price: {product[2]} \\n ID: {product[0]}')\n",
    "            return\n",
    "    print(\"Product not found\")\n",
    "    \n",
    "def FindProductByPrice():\n",
    "    print(\"1. Less than\",\n",
    "          \"2. Greater than\",\n",
    "          sep='\\n')\n",
    "    choice = input(\"Enter your choice: \")\n",
    "    if choice == '1':\n",
    "        price = input(\"Enter price: \")\n",
    "        for product in productList:\n",
    "            if product[2] <= price:\n",
    "                print(f'Name: {product[1]} \\n Price: {product[2]} \\n ID: {product[0]}')\n",
    "    elif choice == '2':\n",
    "        price = input(\"Enter price: \")\n",
    "        for product in productList:\n",
    "            if product[2] >= price:\n",
    "                print(f'Name: {product[1]} \\n Price: {product[2]} \\n ID: {product[0]}')\n",
    "    else:\n",
    "        print(\"Invalid choice\")\n",
    "        \n",
    "def ChangeProductPrice():\n",
    "    productId = input(\"Enter product ID: \")\n",
    "    for product in productList:\n",
    "        if str(product[0]) == productId:\n",
    "            product[2] = input(\"Enter new price: \")\n",
    "            print(\"Price changed successfully\")\n",
    "            return\n",
    "    print(\"Product not found\")\n",
    "    \n",
    "def DeleteProduct():\n",
    "    productId = input(\"Enter product ID: \")\n",
    "    for product in productList:\n",
    "        if product[0] == productId:\n",
    "            productList.remove(product)\n",
    "            print(\"Product deleted successfully\")\n",
    "            return\n",
    "    print(\"Product not found\")\n",
    "    "
   ]
  },
  {
   "cell_type": "code",
   "execution_count": 4,
   "metadata": {},
   "outputs": [
    {
     "name": "stdout",
     "output_type": "stream",
     "text": [
      "0. Exit\n",
      "1. Add a product\n",
      "2. Product list\n",
      "4. Find product by name\n",
      "5. Find product by price\n",
      "6. Change product price\n",
      "7. Delete product\n"
     ]
    },
    {
     "ename": "",
     "evalue": "",
     "output_type": "error",
     "traceback": [
      "\u001b[1;31mThe Kernel crashed while executing code in the the current cell or a previous cell. Please review the code in the cell(s) to identify a possible cause of the failure. Click <a href='https://aka.ms/vscodeJupyterKernelCrash'>here</a> for more info. View Jupyter <a href='command:jupyter.viewOutput'>log</a> for further details."
     ]
    }
   ],
   "source": [
    "from IPython.display import clear_output\n",
    "productList = []\n",
    "while True:\n",
    "    # clear_output(wait=True)\n",
    "    print_menu()\n",
    "    choice = input(\"Enter your choice: \")\n",
    "    clear_output(wait=True)\n",
    "    if choice == '0':\n",
    "        break\n",
    "    menu_chosen(choice)"
   ]
  },
  {
   "cell_type": "code",
   "execution_count": 2,
   "metadata": {},
   "outputs": [],
   "source": [
    "funcs = {\n",
    "    '0': [exit, 'Exit'],\n",
    "    '1': [AddProduct, 'Add a product'],\n",
    "    '2': [ProductList, 'Product list'],\n",
    "    '4': [FindProductByName, 'Find product by name'],\n",
    "    '5': [FindProductByPrice, 'Find product by price'],\n",
    "    '6': [ChangeProductPrice, 'Change product price'],\n",
    "    '7': [DeleteProduct, 'Delete product'],\n",
    "}"
   ]
  }
 ],
 "metadata": {
  "kernelspec": {
   "display_name": "Python 3",
   "language": "python",
   "name": "python3"
  },
  "language_info": {
   "codemirror_mode": {
    "name": "ipython",
    "version": 3
   },
   "file_extension": ".py",
   "mimetype": "text/x-python",
   "name": "python",
   "nbconvert_exporter": "python",
   "pygments_lexer": "ipython3",
   "version": "3.10.11"
  },
  "orig_nbformat": 4
 },
 "nbformat": 4,
 "nbformat_minor": 2
}
