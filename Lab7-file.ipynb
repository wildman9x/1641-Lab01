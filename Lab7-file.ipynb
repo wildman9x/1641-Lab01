{
 "cells": [
  {
   "cell_type": "code",
   "execution_count": 7,
   "metadata": {},
   "outputs": [
    {
     "name": "stdout",
     "output_type": "stream",
     "text": [
      "Federal Bureau of Investigation\n",
      "Central Intelligence Agency\n",
      "Department of Defense\n",
      "Department of State\n",
      "Department of Homeland Security\n",
      "Department of Justic\n"
     ]
    }
   ],
   "source": [
    "file = open(\"Files\\Agencies.csv\", \"r\")\n",
    "# First line is the header\n",
    "names = file.readline().strip().split(\",\")\n",
    "lines = file.readlines()\n",
    "for line in lines:\n",
    "    print(line[:-1])"
   ]
  },
  {
   "cell_type": "code",
   "execution_count": 8,
   "metadata": {},
   "outputs": [
    {
     "name": "stdout",
     "output_type": "stream",
     "text": [
      "Name\n",
      "Federal Bureau of Investigation\n",
      "Central Intelligence Agency\n",
      "Department of Defense\n",
      "Department of State\n",
      "Department of Homeland Security\n",
      "Department of Justic\n"
     ]
    }
   ],
   "source": [
    "file = open(\"Files\\Agencies.csv\", \"r\")\n",
    "line = file.readline()\n",
    "while line:\n",
    "    print(line[:-1])\n",
    "    line = file.readline()"
   ]
  },
  {
   "cell_type": "code",
   "execution_count": 9,
   "metadata": {},
   "outputs": [
    {
     "name": "stdout",
     "output_type": "stream",
     "text": [
      "+---------------------------------+\n",
      "|               Name              |\n",
      "+---------------------------------+\n",
      "| Federal Bureau of Investigation |\n",
      "|   Central Intelligence Agency   |\n",
      "|      Department of Defense      |\n",
      "|       Department of State       |\n",
      "| Department of Homeland Security |\n",
      "|      Department of Justice      |\n",
      "+---------------------------------+\n"
     ]
    }
   ],
   "source": [
    "from prettytable import PrettyTable\n",
    "\n",
    "file = open(\"Files\\Agencies.csv\", \"r\")\n",
    "# First line is the header\n",
    "myTable = PrettyTable(file.readline().strip().split(\",\"))\n",
    "\n",
    "line = file.readline()\n",
    "while line:\n",
    "    myTable.add_row(line.strip().split(\",\"))\n",
    "    line = file.readline()\n",
    "print(myTable)"
   ]
  },
  {
   "cell_type": "code",
   "execution_count": 12,
   "metadata": {},
   "outputs": [
    {
     "name": "stdout",
     "output_type": "stream",
     "text": [
      "+--------------------------+--------------------------------+\n",
      "|           Name           |    Email that has gmail.com    |\n",
      "+--------------------------+--------------------------------+\n",
      "|       Paul Bakaus        |     paul.bakaus@gmail.com      |\n",
      "|      Richard Worth       |       rdworth@gmail.com        |\n",
      "|       Yehuda Katz        |        wycats@gmail.com        |\n",
      "|        John Resig        |       jeresig@gmail.com        |\n",
      "|        Tane Piper        |      piper.tane@gmail.com      |\n",
      "|      Dmitri Gaskin       |      dmitrig01@gmail.com       |\n",
      "|       Klaus Hartl        |     klaus.hartl@gmail.com      |\n",
      "|       Stefan Petre       |     stefan.petre@gmail.com     |\n",
      "|     JÃ¶rn Zaefferer      |   joern.zaefferer@gmail.com    |\n",
      "|      Brandon Aaron       |    brandon.aaron@gmail.com     |\n",
      "|     Scott GonzÃ¡lez      |    scott.gonzalez@gmail.com    |\n",
      "|     Eduardo Lundgren     |   eduardolundgren@gmail.com    |\n",
      "|    Aaron Eisenberger     |       aaronchi@gmail.com       |\n",
      "|       Joan Piedra        |       theneojp@gmail.com       |\n",
      "|       Bruno Basto        |       b.basto@gmail.com        |\n",
      "|      Bohdan Ganicky      |    bohdan.ganicky@gmail.com    |\n",
      "|       David Bolter       |     david.bolter@gmail.com     |\n",
      "|        Chi Cheng         |      cloudream@gmail.com       |\n",
      "|       Ca-Phun Ung        |        pazu2k@gmail.com        |\n",
      "|      Ariel Flesler       |       aflesler@gmail.com       |\n",
      "|        Scott Jehl        |      scottjehl@gmail.com       |\n",
      "|      Brant Burnett       |      btburnett3@gmail.com      |\n",
      "|        Paul Irish        |      paul.irish@gmail.com      |\n",
      "|      Ralph Whitbeck      |    ralph.whitbeck@gmail.com    |\n",
      "|    Thibault Duplessis    |  thibault.duplessis@gmail.com  |\n",
      "|         Jack Hsu         |       jack.hsu@gmail.com       |\n",
      "| Alberto FernÃ¡ndez Capel |       afcapel@gmail.com        |\n",
      "|        Jon Palmer        |      jonspalmer@gmail.com      |\n",
      "|       Tiago Freire       |     tiago.freire@gmail.com     |\n",
      "|        Diego Tres        |      diegotres@gmail.com       |\n",
      "|       Ziling Zhao        |      zilingzhao@gmail.com      |\n",
      "|        Mike Alsup        |        malsup@gmail.com        |\n",
      "|   Robson Braga Araujo    |     robsonbraga@gmail.com      |\n",
      "|   Pierre-Henri Ausseil   |      ph.ausseil@gmail.com      |\n",
      "|   Christopher McCulloh   |      cmcculloh@gmail.com       |\n",
      "|       Lim Chee Aun       |       cheeaun@gmail.com        |\n",
      "|      Jorge Barreiro      |     yortx.barry@gmail.com      |\n",
      "|     Andrey Kapitcyn      |       ru.m157y@gmail.com       |\n",
      "|      Dmitry Petrov       |       dpetroff@gmail.com       |\n",
      "|       Josh Varner        |     josh.varner@gmail.com      |\n",
      "|   StÃ©phane Raimbault    |  stephane.raimbault@gmail.com  |\n",
      "|      Jay Merrifield      |       fracmak@gmail.com        |\n",
      "|     J. Ryan Stinnett     |        jryans@gmail.com        |\n",
      "|     Alex Dovenmuehle     |     adovenmuehle@gmail.com     |\n",
      "|     Raymond Schwartz     |   skeetergraphics@gmail.com    |\n",
      "|      Phillip Barnes      |       philbar@gmail.com        |\n",
      "|        Doug Blood        |      dougblood@gmail.com       |\n",
      "|  Aliaksandr Rahalevich   |       saksmlz@gmail.com        |\n",
      "|       Xavi Ramirez       |       xavi.rmz@gmail.com       |\n",
      "|        Max Schnur        |      max.schnur@gmail.com      |\n",
      "|    Saji Nediyanchath     |        saji89@gmail.com        |\n",
      "|       Corey Frang        |       gnarf37@gmail.com        |\n",
      "|     George Marshall      |        echosx@gmail.com        |\n",
      "|       Martin Solli       |        msolli@gmail.com        |\n",
      "|       Dan Heberden       |     danheberden@gmail.com      |\n",
      "|   William Kevin Manire   |    williamkmanire@gmail.com    |\n",
      "|     Gilmore Davidson     |    gilmoreorless@gmail.com     |\n",
      "|        Michael Wu        |      michaelmwu@gmail.com      |\n",
      "|        Adam Parod        |      mystic414@gmail.com       |\n",
      "|       Marcel Toele       |     EleotleCram@gmail.com      |\n",
      "|      Kyle Florence       |    kyle.florence@gmail.com     |\n",
      "|       Hans Hillen        |     hans.hillen@gmail.com      |\n",
      "|       Trey Hunner        |      treyhunner@gmail.com      |\n",
      "|      Shane Whittet       |       whittet@gmail.com        |\n",
      "|      Kato Kazuyoshi      |    kato.kazuyoshi@gmail.com    |\n",
      "|        Eike Send         |      eike.send@gmail.com       |\n",
      "|      Kris Borchers       |    kris.borchers@gmail.com     |\n",
      "|      Israel Tsadok       |       itsadok@gmail.com        |\n",
      "|      Garrison Locke      |       gplocke@gmail.com        |\n",
      "|   Benjamin Scott Boyle   |   benjamins.boyle@gmail.com    |\n",
      "|       Jesse Baird        |       jebaird@gmail.com        |\n",
      "|    Jonathan Vingiano     |      jvingiano@gmail.com       |\n",
      "|      Hiroshi Tomita      |      tomykaira@gmail.com       |\n",
      "|      Glenn Goodrich      |    glenn.goodrich@gmail.com    |\n",
      "|  Tarafder Ashek-E-Elahi  |      mail.ashek@gmail.com      |\n",
      "|      Marc Neuwirth       |    marc.neuwirth@gmail.com     |\n",
      "|      Philip Graham       | philip.robert.graham@gmail.com |\n",
      "|      Wesley Walser       |        waw325@gmail.com        |\n",
      "|        Karl Kirch        |       karlkrch@gmail.com       |\n",
      "|  Alexander Polomoshnov   |   alex.polomoshnov@gmail.com   |\n",
      "|        David Leal        |        dgleal@gmail.com        |\n",
      "|        Igor Milla        |    igor.fsp.milla@gmail.com    |\n",
      "|       Dave Methvin       |     dave.methvin@gmail.com     |\n",
      "|     Marwan Al Jubeh      |    marwan.aljubeh@gmail.com    |\n",
      "|      GaÃ«tan Muller      |      m.gaetan89@gmail.com      |\n",
      "|    Stojce Slavkovski     |        stojce@gmail.com        |\n",
      "|        David Soms        |      david.soms@gmail.com      |\n",
      "|      Shannon Pekary      |       spekary@gmail.com        |\n",
      "|        Rob Loach         |       robloach@gmail.com       |\n",
      "|     Alberto Monteiro     |     betimbrasil@gmail.com      |\n",
      "|        Alex Rhea         |      alex.rhea@gmail.com       |\n",
      "|   Krzysztof RosiÅ„ski    |      rozwell69@gmail.com       |\n",
      "|        Ryan Olton        |        oltonr@gmail.com        |\n",
      "|       Rick Waldron       |     waldron.rick@gmail.com     |\n",
      "|       Ian Simpson        |    spoonlikesham@gmail.com     |\n",
      "|        Lev Kitsis        |       spam4lev@gmail.com       |\n",
      "|        TJ VanToll        |      tj.vantoll@gmail.com      |\n",
      "|      Justin Domnitz      |       jdomnitz@gmail.com       |\n",
      "|       Jasvir Nagra       |        jasvir@gmail.com        |\n",
      "|      Yuriy Khabarov      |      13real008@gmail.com       |\n",
      "|      Harri KilpiÃ¶       |     harri.kilpio@gmail.com     |\n",
      "|       Lado Lomidze       |     lado.lomidze@gmail.com     |\n",
      "|       Simon Sattes       |     simon.sattes@gmail.com     |\n",
      "|         Jo Liss          |       joliss42@gmail.com       |\n",
      "|    Shahyar Ghobadpour    |       shahyar@gmail.com        |\n",
      "|     Lukasz Lipinski      |        uzza17@gmail.com        |\n",
      "|       Timo Tijhof        |     krinklemail@gmail.com      |\n",
      "|        EungJun Yi        |      semtlenori@gmail.com      |\n",
      "|     Courtland Allen      |    courtlandallen@gmail.com    |\n",
      "|    Viktar Varvanovich    |        non4eg@gmail.com        |\n",
      "|       Danny Trunk        |       dtrunk90@gmail.com       |\n",
      "|       Michael Stay       |       metaweta@gmail.com       |\n",
      "|      Steven Roussey      |       sroussey@gmail.com       |\n",
      "|      Michael Hollis      |       hollis21@gmail.com       |\n",
      "|      Timmy Willison      |     timmywillisn@gmail.com     |\n",
      "|      Karl Swedberg       |      kswedberg@gmail.com       |\n",
      "|    Maciej MroziÅ„ski     |  maciej.k.mrozinski@gmail.com  |\n",
      "|      Luis Dalmolin       |       luis.nh@gmail.com        |\n",
      "|    Mark Aaron Shirley    |        maspwr@gmail.com        |\n",
      "|        Jiayi Yang        |       tr870829@gmail.com       |\n",
      "|      Sindre Sorhus       |     sindresorhus@gmail.com     |\n",
      "|  Rafael Xavier de Souza  |       rxaviers@gmail.com       |\n",
      "|    Robert Beuligmann     |   robertbeuligmann@gmail.com   |\n",
      "|       Dale Kocian        |     dale.kocian@gmail.com      |\n",
      "|       Mike Sherov        |     mike.sherov@gmail.com      |\n",
      "|      David Souther       |     davidsouther@gmail.com     |\n",
      "|        Avinash R         |       nashpapa@gmail.com       |\n",
      "|       Ethan Romba        |      ethanromba@gmail.com      |\n",
      "|    Cory Gackenheimer     |      cory.gack@gmail.com       |\n",
      "|   Juan Pablo Kaniefsky   |     jpkaniefsky@gmail.com      |\n",
      "|      Roman Salnikov      |       bardt.dz@gmail.com       |\n",
      "|    Viktor Kojouharov     |     vkojouharov@gmail.com      |\n",
      "|     Pavel Selitskas      |     p.selitskas@gmail.com      |\n",
      "|      David Sullivan      |    david.sullivan@gmail.com    |\n",
      "|     Vahid Sohrabloo      |      vahid4134@gmail.com       |\n",
      "|      Travis Carden       |    travis.carden@gmail.com     |\n",
      "|   Nathanael Silverman    | nathanael.silverman@gmail.com  |\n",
      "|      Zaven Muradyan      |    megalivoithos@gmail.com     |\n",
      "|     Zbigniew Motyka      |   zbigniew.motyka@gmail.com    |\n",
      "|    Suhail Alkowaileet    |       xsoh.k7@gmail.com        |\n",
      "|       David Hansen       |       hansede@gmail.com        |\n",
      "|     Brian Grinstead      |    briangrinstead@gmail.com    |\n",
      "|    Christian Klammer     |   christian314159@gmail.com    |\n",
      "|       Gan Eng Chin       |     engchin.gan@gmail.com      |\n",
      "|    Alexander Schmitz     |      arschmitz@gmail.com       |\n",
      "|        Pere Orga         |       gotrunks@gmail.com       |\n",
      "|    Stephane Deschamps    |  stephane.deschamps@gmail.com  |\n",
      "|        Jyoti Deka        |        dekajp@gmail.com        |\n",
      "|       Andrei Picus       | office.nightcrawler@gmail.com  |\n",
      "|     Jacob McCutcheon     |   jacob.mccutcheon@gmail.com   |\n",
      "|    Monika Piotrowicz     |  monika.piotrowicz@gmail.com   |\n",
      "|        Eric Dahl         |     eric.c.dahl@gmail.com      |\n",
      "|      Daniel DeGroff      |      djdegroff@gmail.com       |\n",
      "|     Michael Wiencek      |        mwtuea@gmail.com        |\n",
      "|       Thomas Meyer       |       meyertee@gmail.com       |\n",
      "|      Trisha Crowley      |    trisha.crowley@gmail.com    |\n",
      "|       Usman Akeju        |    akeju00+github@gmail.com    |\n",
      "|     Rodrigo Menezes      |        rod333@gmail.com        |\n",
      "|       Will Holley        |      willholley@gmail.com      |\n",
      "|        Uri Gilad         |       antishok@gmail.com       |\n",
      "|      Richard Gibson      |    richard.gibson@gmail.com    |\n",
      "|      Simen Bekkhus       |      sbekkhus91@gmail.com      |\n",
      "|       Chen Eshchar       |       eshcharc@gmail.com       |\n",
      "|       Bruno PÃ©rel       |      brunoperel@gmail.com      |\n",
      "|       Adam Foster        |      slimfoster@gmail.com      |\n",
      "|        Luke Page         |     luke.a.page@gmail.com      |\n",
      "|     Patricia Juarez      |       patrixd@gmail.com        |\n",
      "|      Ablay Keldibek      |      atomio.ak@gmail.com       |\n",
      "|        Jiabao Wu         |     jiabao.foss@gmail.com      |\n",
      "|     Victor Homyakov      |     vkhomyackov@gmail.com      |\n",
      "|      Myeongjin Lee       |      aranet100@gmail.com       |\n",
      "|       Liran Sharir       |       lsharir@gmail.com        |\n",
      "|       Mani Mishra        |    manimishra902@gmail.com     |\n",
      "|      Hannah Methvin      |    hannahmethvin@gmail.com     |\n",
      "|     Leonardo Balter      |   leonardo.balter@gmail.com    |\n",
      "|  MichaÅ‚ GoÅ‚Ä™biowski   |       m.goleb@gmail.com        |\n",
      "|      Alyosha Pushak      |    alyosha.pushak@gmail.com    |\n",
      "|      Francesc Baeta      |    francesc.baeta@gmail.com    |\n",
      "|        Mukul Hase        |      mukulhase@gmail.com       |\n",
      "|     Maksim Ryzhikov      |      rv.maksim@gmail.com       |\n",
      "|     Amanpreet Singh      |       apsdehal@gmail.com       |\n",
      "|     Alexey Balchunas     |       bleshik@gmail.com        |\n",
      "|        Peter Kehl        |      peter.kehl@gmail.com      |\n",
      "+--------------------------+--------------------------------+\n"
     ]
    }
   ],
   "source": [
    "from prettytable import PrettyTable\n",
    "\n",
    "file = open(\"Files/authors.txt\", \"r\")\n",
    "# Discard the first three lines\n",
    "for i in range(3):\n",
    "    file.readline()\n",
    "\n",
    "myTable = PrettyTable([\"Name\", \"Email that has gmail.com\"])\n",
    "# The format is \"Fullname <email>\"\n",
    "for line in file:\n",
    "    name, email = line.strip().split(\" <\")\n",
    "    if \"gmail.com\" in email:\n",
    "        myTable.add_row([name, email[:-1]])\n",
    "\n",
    "print(myTable)\n"
   ]
  },
  {
   "cell_type": "code",
   "execution_count": 26,
   "metadata": {},
   "outputs": [
    {
     "name": "stdout",
     "output_type": "stream",
     "text": [
      "+------------+------+--------+-------------+\n",
      "| data point | time | height | uncertainty |\n",
      "+------------+------+--------+-------------+\n",
      "|     0      | 0.0  | 180.0  |     3.5     |\n",
      "|     1      | 0.5  | 185.0  |     4.5     |\n",
      "|     2      | 0.7  | 192.0  |     5.2     |\n",
      "+------------+------+--------+-------------+\n"
     ]
    }
   ],
   "source": [
    "from prettytable import PrettyTable\n",
    "import numpy as np\n",
    "\n",
    "file = np.loadtxt(\"Files/falling.txt\", skiprows=5)\n",
    "# next line is the header with format \"data point  time    height  uncertainty\"\n",
    "myTable = PrettyTable([\"data point\", \"time\", \"height\", \"uncertainty\"])\n",
    "# data is in format \"0           0.0     180     3.5\"\n",
    "for line in file:\n",
    "    dataPoint, time, height, uncertainty = line\n",
    "    myTable.add_row([int(dataPoint), time, height, uncertainty])\n",
    "print(myTable)"
   ]
  },
  {
   "cell_type": "code",
   "execution_count": 32,
   "metadata": {},
   "outputs": [
    {
     "name": "stdout",
     "output_type": "stream",
     "text": [
      "+------------+------+--------+-------------+\n",
      "| data point | time | height | uncertainty |\n",
      "+------------+------+--------+-------------+\n",
      "|     0      | 0.0  | 180.0  |     3.5     |\n",
      "|     1      | 0.5  | 185.0  |     4.5     |\n",
      "|     2      | 0.7  | 192.0  |     5.2     |\n",
      "+------------+------+--------+-------------+\n"
     ]
    }
   ],
   "source": [
    "from prettytable import PrettyTable\n",
    "import numpy as np\n",
    "\n",
    "file = np.loadtxt(\"Files/falling.txt\", skiprows=5, unpack=True)\n",
    "myTable = PrettyTable([\"data point\", \"time\", \"height\", \"uncertainty\"])\n",
    "for i in range(len(file[0])):\n",
    "    dataPoint, time, height, uncertainty = file[:, i]\n",
    "    myTable.add_row([int(dataPoint), time, height, uncertainty])\n",
    "\n",
    "print(myTable)"
   ]
  },
  {
   "cell_type": "code",
   "execution_count": 33,
   "metadata": {},
   "outputs": [
    {
     "name": "stdout",
     "output_type": "stream",
     "text": [
      "+------+--------+\n",
      "| time | height |\n",
      "+------+--------+\n",
      "| 0.0  | 180.0  |\n",
      "| 0.5  | 185.0  |\n",
      "| 0.7  | 192.0  |\n",
      "+------+--------+\n"
     ]
    }
   ],
   "source": [
    "from prettytable import PrettyTable\n",
    "import numpy as np\n",
    "\n",
    "time, height = np.loadtxt(\"Files/falling.txt\", skiprows=5, unpack=True, usecols=(1, 2))\n",
    "myTable = PrettyTable([\"time\", \"height\"])\n",
    "for i in range(len(time)):\n",
    "    myTable.add_row([time[i], height[i]])\n",
    "\n",
    "print(myTable)"
   ]
  },
  {
   "cell_type": "code",
   "execution_count": 53,
   "metadata": {},
   "outputs": [
    {
     "name": "stdout",
     "output_type": "stream",
     "text": [
      "+-----------------+----------------------------+----------+--------------------+-------+\n",
      "|      Login      |           Email            |   Code   |        Name        | Grade |\n",
      "+-----------------+----------------------------+----------+--------------------+-------+\n",
      "| huonglmgbh17538 | huonglmgbh17538@fpt.edu.vn | GBH17538 |   Le Minh Huong    |  6.5  |\n",
      "|  nambpgch16025  |  nambpgch16025@fpt.edu.vn  | GCH16025 |   Bui Phuong Nam   |  0.0  |\n",
      "|  datntgch16336  |  datntgch16336@fpt.edu.vn  | GCH16336 |   Nguyen The Dat   |  6.5  |\n",
      "| thangpmgch16388 | thangpmgch16388@fpt.edu.vn | GCH16388 |  Pham Minh Thang   |  9.5  |\n",
      "|  tungddgch16573 | tungddgch16573@fpt.edu.vn  | GCH16573 |    Do Duy Tung     |  6.5  |\n",
      "|  minhnhgch16602 | minhnhgch16602@fpt.edu.vn  | GCH16602 | Nguyen Hoang Minh  |  0.0  |\n",
      "| thangntgch16603 | thangntgch16603@fpt.edu.vn | GCH16603 | Nguyen Thanh Thang |  8.0  |\n",
      "|   letdgch16604  |       letdpgch16604        | GCH16604 |    Tran Duc Le     |  3.8  |\n",
      "|  tuannmgch16605 | tuannmgch16605@fpt.edu.vn  | GCHXXXXX |  Nguyen Minh Tuan  |  10.0 |\n",
      "+-----------------+----------------------------+----------+--------------------+-------+\n"
     ]
    }
   ],
   "source": [
    "from prettytable import PrettyTable\n",
    "import numpy as np\n",
    "\n",
    "file = np.loadtxt(\"Files/gradebook.csv\", skiprows=1,  unpack=True, delimiter=\",\", dtype=str)\n",
    "myTable = PrettyTable([\"Login\", \"Email\", \"Code\", \"Name\", \"Grade\"])\n",
    "file[2][file[2] == \"\"] = \"GCHXXXXX\"\n",
    "file[4][file[4] == \"\"] = \"0\"\n",
    "file[4] = np.array(list(map( lambda x: float(x) if float(x) <= 10 else 10.0, file[4])))\n",
    "for i in range(len(file[0])):\n",
    "    myTable.add_row(file[:, i])\n",
    "print(myTable)"
   ]
  },
  {
   "cell_type": "code",
   "execution_count": 74,
   "metadata": {},
   "outputs": [
    {
     "name": "stdout",
     "output_type": "stream",
     "text": [
      "+-----------------+----------------------------+----------+--------------------+-------+\n",
      "|      Login      |           Email            |   Code   |        Name        | Grade |\n",
      "+-----------------+----------------------------+----------+--------------------+-------+\n",
      "| huonglmgbh17538 | huonglmgbh17538@fpt.edu.vn | GBH17538 |   Le Minh Huong    |  6.5  |\n",
      "|  nambpgch16025  |  nambpgch16025@fpt.edu.vn  | GCH16025 |   Bui Phuong Nam   |  0.0  |\n",
      "|  datntgch16336  |  datntgch16336@fpt.edu.vn  | GCH16336 |   Nguyen The Dat   |  6.5  |\n",
      "| thangpmgch16388 | thangpmgch16388@fpt.edu.vn | GCH16388 |  Pham Minh Thang   |  9.5  |\n",
      "|  tungddgch16573 | tungddgch16573@fpt.edu.vn  | GCH16573 |    Do Duy Tung     |  6.5  |\n",
      "|  minhnhgch16602 | minhnhgch16602@fpt.edu.vn  | GCH16602 | Nguyen Hoang Minh  |  0.0  |\n",
      "| thangntgch16603 | thangntgch16603@fpt.edu.vn | GCH16603 | Nguyen Thanh Thang |  8.0  |\n",
      "|   letdgch16604  |       letdpgch16604        | GCH16604 |    Tran Duc Le     |  3.8  |\n",
      "|  tuannmgch16605 | tuannmgch16605@fpt.edu.vn  | GCHXXXXX |  Nguyen Minh Tuan  |  10.0 |\n",
      "+-----------------+----------------------------+----------+--------------------+-------+\n"
     ]
    }
   ],
   "source": [
    "from prettytable import PrettyTable\n",
    "import numpy as np\n",
    "import csv\n",
    "\n",
    "file = open(\"Files/gradebook.csv\", \"r\")\n",
    "reader = csv.reader(file)\n",
    "\n",
    "myTable = PrettyTable(next(reader))\n",
    "\n",
    "for row in reader:\n",
    "    row[2] = row[2] if row[2] != \"\" else \"GCHXXXXX\"\n",
    "    row[4] = row[4] if row[4] != \"\" else \"0\"\n",
    "    row[4] = float(row[4]) if float(row[4]) <= 10 else 10.0\n",
    "    myTable.add_row(row)\n",
    "\n",
    "print(myTable)"
   ]
  }
 ],
 "metadata": {
  "kernelspec": {
   "display_name": "Python 3",
   "language": "python",
   "name": "python3"
  },
  "language_info": {
   "name": "python",
   "version": "3.10.10"
  },
  "orig_nbformat": 4
 },
 "nbformat": 4,
 "nbformat_minor": 2
}
